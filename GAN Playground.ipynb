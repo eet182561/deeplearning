{
 "cells": [
  {
   "cell_type": "code",
   "execution_count": 1,
   "metadata": {},
   "outputs": [],
   "source": [
    "%load_ext autoreload\n",
    "%autoreload 2"
   ]
  },
  {
   "cell_type": "code",
   "execution_count": 2,
   "metadata": {
    "scrolled": true
   },
   "outputs": [],
   "source": [
    "import requests\n",
    "url = 'https://storage.googleapis.com/quickdraw_dataset/full/numpy_bitmap/camel.npy'"
   ]
  },
  {
   "cell_type": "code",
   "execution_count": 3,
   "metadata": {},
   "outputs": [],
   "source": [
    "myfile = requests.get(url,stream = True)\n",
    "total_length = int(myfile.headers.get('content-length'))"
   ]
  },
  {
   "cell_type": "code",
   "execution_count": 4,
   "metadata": {},
   "outputs": [
    {
     "name": "stdout",
     "output_type": "stream",
     "text": [
      "\r",
      "[==================================================]\n"
     ]
    }
   ],
   "source": [
    "from IPython.display import clear_output\n",
    "dl = 0\n",
    "done = 0\n",
    "with open('camel_protec.npy','wb') as f:    \n",
    "    for data in myfile.iter_content(chunk_size=4096):\n",
    "        dl += len(data)\n",
    "        f.write(data)\n",
    "        done = int(50 * dl / total_length)\n",
    "        clear_output()\n",
    "        print(\"\\r[%s%s]\" % ('=' * done, ' ' * (50-done)) )"
   ]
  },
  {
   "cell_type": "code",
   "execution_count": 6,
   "metadata": {},
   "outputs": [
    {
     "data": {
      "text/plain": [
       "<matplotlib.image.AxesImage at 0x11ddee5b688>"
      ]
     },
     "execution_count": 6,
     "metadata": {},
     "output_type": "execute_result"
    },
    {
     "data": {
      "image/png": "[encoded data removed]",
      "text/plain": [
       "<Figure size 432x288 with 1 Axes>"
      ]
     },
     "metadata": {
      "needs_background": "light"
     },
     "output_type": "display_data"
    }
   ],
   "source": [
    "#Load data\n",
    "import numpy as np\n",
    "X = np.load('camel.npy')\n",
    "X = X.reshape((-1,28,28,1))\n",
    "import matplotlib.pyplot as plt\n",
    "\n",
    "plt.imshow(X[0].squeeze(),cmap = 'gray')"
   ]
  },
  {
   "cell_type": "code",
   "execution_count": 7,
   "metadata": {},
   "outputs": [
    {
     "name": "stderr",
     "output_type": "stream",
     "text": [
      "Using TensorFlow backend.\n"
     ]
    }
   ],
   "source": [
    "from keras.preprocessing.image import ImageDataGenerator\n",
    "def fun(x):\n",
    "  return (x/255.0 - 0.5)\n",
    "x_gen = ImageDataGenerator(preprocessing_function=fun)\n",
    "xx_gen = x_gen.flow(X,batch_size = 64)"
   ]
  },
  {
   "cell_type": "code",
   "execution_count": 39,
   "metadata": {},
   "outputs": [
    {
     "name": "stderr",
     "output_type": "stream",
     "text": [
      "[autoreload of models.DCGAN failed: Traceback (most recent call last):\n",
      "  File \"d:\\envs\\DavidFoster\\lib\\site-packages\\IPython\\extensions\\autoreload.py\", line 245, in check\n",
      "    superreload(m, reload, self.old_objects)\n",
      "  File \"d:\\envs\\DavidFoster\\lib\\site-packages\\IPython\\extensions\\autoreload.py\", line 450, in superreload\n",
      "    update_generic(old_obj, new_obj)\n",
      "  File \"d:\\envs\\DavidFoster\\lib\\site-packages\\IPython\\extensions\\autoreload.py\", line 387, in update_generic\n",
      "    update(a, b)\n",
      "  File \"d:\\envs\\DavidFoster\\lib\\site-packages\\IPython\\extensions\\autoreload.py\", line 357, in update_class\n",
      "    update_instances(old, new)\n",
      "  File \"d:\\envs\\DavidFoster\\lib\\site-packages\\IPython\\extensions\\autoreload.py\", line 312, in update_instances\n",
      "    update_instances(old, new, obj.__dict__, visited)\n",
      "  File \"d:\\envs\\DavidFoster\\lib\\site-packages\\IPython\\extensions\\autoreload.py\", line 312, in update_instances\n",
      "    update_instances(old, new, obj.__dict__, visited)\n",
      "  File \"d:\\envs\\DavidFoster\\lib\\site-packages\\IPython\\extensions\\autoreload.py\", line 312, in update_instances\n",
      "    update_instances(old, new, obj.__dict__, visited)\n",
      "  File \"d:\\envs\\DavidFoster\\lib\\site-packages\\IPython\\extensions\\autoreload.py\", line 317, in update_instances\n",
      "    update_instances(old, new, obj, visited)\n",
      "  File \"d:\\envs\\DavidFoster\\lib\\site-packages\\IPython\\extensions\\autoreload.py\", line 300, in update_instances\n",
      "    for obj in (obj for obj in objects if id(obj) not in visited):\n",
      "  File \"d:\\envs\\DavidFoster\\lib\\site-packages\\IPython\\extensions\\autoreload.py\", line 300, in <genexpr>\n",
      "    for obj in (obj for obj in objects if id(obj) not in visited):\n",
      "NotImplementedError: Iteration over this class is unlikely to be threadsafe.\n",
      "]\n"
     ]
    }
   ],
   "source": [
    "from models.DCGAN import GAN\n",
    "from glob import glob\n",
    "from keras.preprocessing.image import ImageDataGenerator\n",
    "import matplotlib.pyplot as plt\n",
    "\n",
    "%matplotlib inline"
   ]
  },
  {
   "cell_type": "code",
   "execution_count": 52,
   "metadata": {},
   "outputs": [
    {
     "name": "stderr",
     "output_type": "stream",
     "text": [
      "[autoreload of models.DCGAN failed: Traceback (most recent call last):\n",
      "  File \"d:\\envs\\DavidFoster\\lib\\site-packages\\IPython\\extensions\\autoreload.py\", line 245, in check\n",
      "    superreload(m, reload, self.old_objects)\n",
      "  File \"d:\\envs\\DavidFoster\\lib\\site-packages\\IPython\\extensions\\autoreload.py\", line 450, in superreload\n",
      "    update_generic(old_obj, new_obj)\n",
      "  File \"d:\\envs\\DavidFoster\\lib\\site-packages\\IPython\\extensions\\autoreload.py\", line 387, in update_generic\n",
      "    update(a, b)\n",
      "  File \"d:\\envs\\DavidFoster\\lib\\site-packages\\IPython\\extensions\\autoreload.py\", line 357, in update_class\n",
      "    update_instances(old, new)\n",
      "  File \"d:\\envs\\DavidFoster\\lib\\site-packages\\IPython\\extensions\\autoreload.py\", line 312, in update_instances\n",
      "    update_instances(old, new, obj.__dict__, visited)\n",
      "  File \"d:\\envs\\DavidFoster\\lib\\site-packages\\IPython\\extensions\\autoreload.py\", line 312, in update_instances\n",
      "    update_instances(old, new, obj.__dict__, visited)\n",
      "  File \"d:\\envs\\DavidFoster\\lib\\site-packages\\IPython\\extensions\\autoreload.py\", line 312, in update_instances\n",
      "    update_instances(old, new, obj.__dict__, visited)\n",
      "  File \"d:\\envs\\DavidFoster\\lib\\site-packages\\IPython\\extensions\\autoreload.py\", line 317, in update_instances\n",
      "    update_instances(old, new, obj, visited)\n",
      "  File \"d:\\envs\\DavidFoster\\lib\\site-packages\\IPython\\extensions\\autoreload.py\", line 300, in update_instances\n",
      "    for obj in (obj for obj in objects if id(obj) not in visited):\n",
      "  File \"d:\\envs\\DavidFoster\\lib\\site-packages\\IPython\\extensions\\autoreload.py\", line 300, in <genexpr>\n",
      "    for obj in (obj for obj in objects if id(obj) not in visited):\n",
      "NotImplementedError: Iteration over this class is unlikely to be threadsafe.\n",
      "]\n"
     ]
    },
    {
     "name": "stdout",
     "output_type": "stream",
     "text": [
      "input dim (28, 28, 1)\n"
     ]
    }
   ],
   "source": [
    "gan = GAN(\n",
    "    input_dim=(28,28,1),\n",
    "                \n",
    "                discriminator_conv_filter=[64,64,128,128],\n",
    "                discriminator_conv_kernel_size=[5,5,5,5],\n",
    "                discriminator_conv_stride=[2,2,2,1],\n",
    "                disctriminator_activation_function='relu',\n",
    "                discriminator_learning_rate=0.0008,\n",
    "                discriminator_batch_norm_momentum = None,\n",
    "                discriminator_dropout_rate=0.4,\n",
    "\n",
    "                generator_initial_dense_layer_size=(7,7,64),\n",
    "                generator_upsample=[2,2,1,1],\n",
    "                generator_conv_filter=[128,64,64,1],\n",
    "                generator_conv_kernel_size=[5,5,5,5],\n",
    "                generator_conv_strides=[1,1,1,1],\n",
    "                generator_batch_norm_momentum = 0.9,\n",
    "                genrator_activation = 'relu',\n",
    "                genrator_dropout_rate=None,\n",
    "                generator_learning_rate=0.0004,\n",
    "                optimiser = 'rmsprop',\n",
    "                zdim=100\n",
    ")"
   ]
  },
  {
   "cell_type": "code",
   "execution_count": 49,
   "metadata": {},
   "outputs": [
    {
     "name": "stdout",
     "output_type": "stream",
     "text": [
      "Model: \"model_16\"\n",
      "_________________________________________________________________\n",
      "Layer (type)                 Output Shape              Param #   \n",
      "=================================================================\n",
      "discriminator_input (InputLa (None, 28, 28, 1)         0         \n",
      "_________________________________________________________________\n",
      "Discriminator_conv_layer_1 ( (None, 14, 14, 64)        1664      \n",
      "_________________________________________________________________\n",
      "activation_88 (Activation)   (None, 14, 14, 64)        0         \n",
      "_________________________________________________________________\n",
      "dropout_45 (Dropout)         (None, 14, 14, 64)        0         \n",
      "_________________________________________________________________\n",
      "Discriminator_conv_layer_2 ( (None, 7, 7, 64)          102464    \n",
      "_________________________________________________________________\n",
      "activation_89 (Activation)   (None, 7, 7, 64)          0         \n",
      "_________________________________________________________________\n",
      "dropout_46 (Dropout)         (None, 7, 7, 64)          0         \n",
      "_________________________________________________________________\n",
      "Discriminator_conv_layer_3 ( (None, 4, 4, 128)         204928    \n",
      "_________________________________________________________________\n",
      "activation_90 (Activation)   (None, 4, 4, 128)         0         \n",
      "_________________________________________________________________\n",
      "dropout_47 (Dropout)         (None, 4, 4, 128)         0         \n",
      "_________________________________________________________________\n",
      "Discriminator_conv_layer_4 ( (None, 4, 4, 128)         409728    \n",
      "_________________________________________________________________\n",
      "activation_91 (Activation)   (None, 4, 4, 128)         0         \n",
      "_________________________________________________________________\n",
      "dropout_48 (Dropout)         (None, 4, 4, 128)         0         \n",
      "_________________________________________________________________\n",
      "flatten_12 (Flatten)         (None, 2048)              0         \n",
      "_________________________________________________________________\n",
      "dense_22 (Dense)             (None, 1)                 2049      \n",
      "=================================================================\n",
      "Total params: 720,833\n",
      "Trainable params: 720,833\n",
      "Non-trainable params: 0\n",
      "_________________________________________________________________\n"
     ]
    }
   ],
   "source": [
    "\n",
    "gan.discriminator.summary()"
   ]
  },
  {
   "cell_type": "code",
   "execution_count": 27,
   "metadata": {},
   "outputs": [
    {
     "name": "stdout",
     "output_type": "stream",
     "text": [
      "Model: \"generator\"\n",
      "_________________________________________________________________\n",
      "Layer (type)                 Output Shape              Param #   \n",
      "=================================================================\n",
      "generator_input (InputLayer) (None, 100)               0         \n",
      "_________________________________________________________________\n",
      "dense_13 (Dense)             (None, 3136)              316736    \n",
      "_________________________________________________________________\n",
      "batch_normalization_16 (Batc (None, 3136)              12544     \n",
      "_________________________________________________________________\n",
      "activation_47 (Activation)   (None, 3136)              0         \n",
      "_________________________________________________________________\n",
      "reshape_5 (Reshape)          (None, 7, 7, 64)          0         \n",
      "_________________________________________________________________\n",
      "up_sampling2d_9 (UpSampling2 (None, 14, 14, 64)        0         \n",
      "_________________________________________________________________\n",
      "generator_cov_0 (Conv2D)     (None, 14, 14, 128)       204928    \n",
      "_________________________________________________________________\n",
      "batch_normalization_17 (Batc (None, 14, 14, 128)       512       \n",
      "_________________________________________________________________\n",
      "activation_48 (Activation)   (None, 14, 14, 128)       0         \n",
      "_________________________________________________________________\n",
      "up_sampling2d_10 (UpSampling (None, 28, 28, 128)       0         \n",
      "_________________________________________________________________\n",
      "generator_cov_1 (Conv2D)     (None, 28, 28, 64)        204864    \n",
      "_________________________________________________________________\n",
      "batch_normalization_18 (Batc (None, 28, 28, 64)        256       \n",
      "_________________________________________________________________\n",
      "activation_49 (Activation)   (None, 28, 28, 64)        0         \n",
      "_________________________________________________________________\n",
      "generator_conv_2 (Conv2DTran (None, 28, 28, 64)        102464    \n",
      "_________________________________________________________________\n",
      "batch_normalization_19 (Batc (None, 28, 28, 64)        256       \n",
      "_________________________________________________________________\n",
      "activation_50 (Activation)   (None, 28, 28, 64)        0         \n",
      "_________________________________________________________________\n",
      "generator_conv_3 (Conv2DTran (None, 28, 28, 1)         1601      \n",
      "_________________________________________________________________\n",
      "activation_51 (Activation)   (None, 28, 28, 1)         0         \n",
      "=================================================================\n",
      "Total params: 844,161\n",
      "Trainable params: 837,377\n",
      "Non-trainable params: 6,784\n",
      "_________________________________________________________________\n"
     ]
    }
   ],
   "source": [
    "\n",
    "gan.generator.summary()"
   ]
  },
  {
   "cell_type": "code",
   "execution_count": 29,
   "metadata": {},
   "outputs": [
    {
     "name": "stdout",
     "output_type": "stream",
     "text": [
      "Model: \"model_7\"\n",
      "_________________________________________________________________\n",
      "Layer (type)                 Output Shape              Param #   \n",
      "=================================================================\n",
      "model_input (InputLayer)     (None, 100)               0         \n",
      "_________________________________________________________________\n",
      "generator (Model)            (None, 28, 28, 1)         844161    \n",
      "_________________________________________________________________\n",
      "model_6 (Model)              (None, 1)                 720833    \n",
      "=================================================================\n",
      "Total params: 844,161\n",
      "Trainable params: 837,377\n",
      "Non-trainable params: 6,784\n",
      "_________________________________________________________________\n"
     ]
    },
    {
     "name": "stderr",
     "output_type": "stream",
     "text": [
      "d:\\envs\\DavidFoster\\lib\\site-packages\\keras\\engine\\training.py:297: UserWarning: Discrepancy between trainable weights and collected trainable weights, did you set `model.trainable` without calling `model.compile` after ?\n",
      "  'Discrepancy between trainable weights and collected trainable'\n"
     ]
    }
   ],
   "source": [
    "gan.model.summary()"
   ]
  },
  {
   "cell_type": "code",
   "execution_count": 37,
   "metadata": {},
   "outputs": [],
   "source": [
    "BATCH_SIZE = 64\n",
    "EPOCHS = 6000\n",
    "PRINT_EVERY_N_BATCHES = 50"
   ]
  },
  {
   "cell_type": "code",
   "execution_count": null,
   "metadata": {},
   "outputs": [
    {
     "name": "stderr",
     "output_type": "stream",
     "text": [
      "[autoreload of models.DCGAN failed: Traceback (most recent call last):\n",
      "  File \"d:\\envs\\DavidFoster\\lib\\site-packages\\IPython\\extensions\\autoreload.py\", line 245, in check\n",
      "    superreload(m, reload, self.old_objects)\n",
      "  File \"d:\\envs\\DavidFoster\\lib\\site-packages\\IPython\\extensions\\autoreload.py\", line 450, in superreload\n",
      "    update_generic(old_obj, new_obj)\n",
      "  File \"d:\\envs\\DavidFoster\\lib\\site-packages\\IPython\\extensions\\autoreload.py\", line 387, in update_generic\n",
      "    update(a, b)\n",
      "  File \"d:\\envs\\DavidFoster\\lib\\site-packages\\IPython\\extensions\\autoreload.py\", line 357, in update_class\n",
      "    update_instances(old, new)\n",
      "  File \"d:\\envs\\DavidFoster\\lib\\site-packages\\IPython\\extensions\\autoreload.py\", line 312, in update_instances\n",
      "    update_instances(old, new, obj.__dict__, visited)\n",
      "  File \"d:\\envs\\DavidFoster\\lib\\site-packages\\IPython\\extensions\\autoreload.py\", line 312, in update_instances\n",
      "    update_instances(old, new, obj.__dict__, visited)\n",
      "  File \"d:\\envs\\DavidFoster\\lib\\site-packages\\IPython\\extensions\\autoreload.py\", line 312, in update_instances\n",
      "    update_instances(old, new, obj.__dict__, visited)\n",
      "  File \"d:\\envs\\DavidFoster\\lib\\site-packages\\IPython\\extensions\\autoreload.py\", line 317, in update_instances\n",
      "    update_instances(old, new, obj, visited)\n",
      "  File \"d:\\envs\\DavidFoster\\lib\\site-packages\\IPython\\extensions\\autoreload.py\", line 300, in update_instances\n",
      "    for obj in (obj for obj in objects if id(obj) not in visited):\n",
      "  File \"d:\\envs\\DavidFoster\\lib\\site-packages\\IPython\\extensions\\autoreload.py\", line 300, in <genexpr>\n",
      "    for obj in (obj for obj in objects if id(obj) not in visited):\n",
      "NotImplementedError: Iteration over this class is unlikely to be threadsafe.\n",
      "]\n"
     ]
    },
    {
     "name": "stdout",
     "output_type": "stream",
     "text": [
      "0 ,[D Loss=0.701,0.701,0.702] [D acc = 0.258,0.188,0.328] [G loss = 0.763} G acc = 0.039}]\n",
      "0 ,[D Loss=0.691,0.708,0.674] [D acc = 0.453,0.047,0.859] [G loss = 0.792} G acc = 0.000}]\n",
      "1 ,[D Loss=0.680,0.709,0.651] [D acc = 0.523,0.094,0.953] [G loss = 0.888} G acc = 0.000}]\n"
     ]
    }
   ],
   "source": [
    "gan.train(     \n",
    "    xx_gen\n",
    "    , batch_size = BATCH_SIZE\n",
    "    , epochs = EPOCHS\n",
    "    , run_folder = 'RUN'\n",
    "    , using_generator = True\n",
    "    , print_every_n_batch = PRINT_EVERY_N_BATCHES\n",
    ")"
   ]
  },
  {
   "cell_type": "code",
   "execution_count": 43,
   "metadata": {},
   "outputs": [
    {
     "data": {
      "text/plain": [
       "(64, 28, 28, 1)"
      ]
     },
     "execution_count": 43,
     "metadata": {},
     "output_type": "execute_result"
    }
   ],
   "source": [
    "next(xx_gen).shape"
   ]
  },
  {
   "cell_type": "code",
   "execution_count": null,
   "metadata": {},
   "outputs": [],
   "source": []
  }
 ],
 "metadata": {
  "kernelspec": {
   "display_name": "Python 3",
   "language": "python",
   "name": "python3"
  },
  "language_info": {
   "codemirror_mode": {
    "name": "ipython",
    "version": 3
   },
   "file_extension": ".py",
   "mimetype": "text/x-python",
   "name": "python",
   "nbconvert_exporter": "python",
   "pygments_lexer": "ipython3",
   "version": "3.7.4"
  }
 },
 "nbformat": 4,
 "nbformat_minor": 2
}
